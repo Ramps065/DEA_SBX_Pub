{
 "cells": [
  {
   "cell_type": "markdown",
   "metadata": {},
   "source": [
    "# Create MNDWI area extract to csv file\n",
    "This code has been specifically written for Landsat ARD data. The idea is that you provide the date range you wish to process over a given area (defined by the polygon). Always try to stay about 1gb under your threshold to ensure your work gets processed.It will loop over polygons so be careful of file sizes. Output is a csv with calculated areas at all time steps for inundated pixels (where MNDWI > 0), dry pixels, total pixels and NA pixels for the wetland polygon."
   ]
  },
  {
   "cell_type": "code",
   "execution_count": 1,
   "metadata": {},
   "outputs": [],
   "source": [
    "%matplotlib inline\n",
    "\n",
    "import datacube\n",
    "import geopandas as gpd\n",
    "import pandas as pd\n",
    "import numpy as np\n",
    "# from datacube.utils import geometry\n",
    "from datacube.utils.cog import write_cog\n",
    "from datacube.utils.geometry import Geometry, CRS\n",
    "\n",
    "import sys\n",
    "sys.path.insert(1, '../Tools/')\n",
    "from dea_tools.datahandling import load_ard\n",
    "from dea_tools.plotting import map_shapefile\n",
    "from dea_tools.bandindices import calculate_indices\n",
    "from dea_tools.spatial import xr_rasterize"
   ]
  },
  {
   "cell_type": "markdown",
   "metadata": {},
   "source": [
    "### Connect to the datacube"
   ]
  },
  {
   "cell_type": "code",
   "execution_count": 2,
   "metadata": {},
   "outputs": [],
   "source": [
    "# Temporary solution to account for Collection 3 data being in a different\n",
    "# database on the NCI\n",
    "try:\n",
    "    dc = datacube.Datacube(app='Analyse_multiple_polygons', env='c3-samples')\n",
    "except:\n",
    "    dc = datacube.Datacube(app='Analyse_multiple_polygons')"
   ]
  },
  {
   "cell_type": "markdown",
   "metadata": {},
   "source": [
    "## Analysis parameters\n",
    "\n",
    "* `time_list` : Enter dates, in units YYYY-MM-DD, for each target date  e.g. `'2019-01-01'`\n",
    "* `vector_file` : A path to a vector file (ESRI Shapefile or GeoJSON). Code below presumes your vector to live in a directory called 'vectors' located in the same folder as this notebook. Please ensure it is projected to Albers Equal Area projection\n",
    "* `attribute_col` : A column in the vector file used to label the output `xarray` datasets containing satellite images. Each row of this column should have a unique identifier\n",
    "* `products` : Here we are using Landsat8 only\n",
    "* `measurements` : A list of band names to load from the satellite product e.g. `['nbart_red', 'nbart_green']`\n",
    "* `resolution` : The spatial resolution of the loaded satellite data e.g. for Landsat, this is `(-30, 30)`\n",
    "* `output_crs` : The coordinate reference system/map projection to load data into, e.g. `'EPSG:3577'` to load data in the Albers Equal Area projection\n",
    "* `align` : How to align the x, y coordinates respect to each pixel. Landsat Collection 3 should be centre aligned `align = (15, 15)` if data is loaded in its native UTM zone projection, e.g. `'EPSG:32756'` "
   ]
  },
  {
   "cell_type": "code",
   "execution_count": 3,
   "metadata": {},
   "outputs": [],
   "source": [
    "time_range = ('1987', '2021')\n",
    "vector_file = './vectors/ACE_ANDE.shp'\n",
    "attribute_col = 'WCode'\n",
    "products = ['ga_ls5t_ard_3', 'ga_ls8c_ard_3'] # L7 do separately due to striping\n",
    "\n",
    "measurements = ['nbart_blue', 'nbart_green', 'nbart_red', 'nbart_nir', 'nbart_swir_1', 'nbart_swir_2'] #     choose only the bands you need to save space\n",
    "resolution = (-30, 30)\n",
    "output_crs = 'EPSG:3577'\n",
    "align = (0, 0)"
   ]
  },
  {
   "cell_type": "code",
   "execution_count": 4,
   "metadata": {},
   "outputs": [
    {
     "data": {
      "text/plain": [
       "('1987-09', '1988-01')"
      ]
     },
     "execution_count": 4,
     "metadata": {},
     "output_type": "execute_result"
    }
   ],
   "source": [
    "time_range"
   ]
  },
  {
   "cell_type": "code",
   "execution_count": 5,
   "metadata": {},
   "outputs": [],
   "source": [
    "# read in original vectors\n",
    "gdf = gpd.read_file(vector_file)\n",
    "# geom = geometry.Geometry(gdf.iloc[0].geometry, \n",
    "#                           crs=gdf.crs)\n",
    "\n",
    "\n",
    "# # visualise\n",
    "# geom"
   ]
  },
  {
   "cell_type": "code",
   "execution_count": 6,
   "metadata": {},
   "outputs": [],
   "source": [
    "query = {'time': time_range,\n",
    "         'measurements': measurements,\n",
    "         'resolution': resolution,\n",
    "         'output_crs': output_crs,\n",
    "         'align': align,\n",
    "         }"
   ]
  },
  {
   "cell_type": "code",
   "execution_count": 7,
   "metadata": {},
   "outputs": [
    {
     "name": "stdout",
     "output_type": "stream",
     "text": [
      "Feature: 1/5\n",
      "Finding datasets\n",
      "    ga_ls5t_ard_3\n",
      "    ga_ls8c_ard_3\n"
     ]
    },
    {
     "name": "stderr",
     "output_type": "stream",
     "text": [
      "/env/lib/python3.8/site-packages/datacube/utils/geometry/_base.py:626: ShapelyDeprecationWarning: The 'type' attribute is deprecated, and will be removed in the future. You can use the 'geom_type' attribute instead.\n",
      "  if geom.type in ['Point', 'MultiPoint']:\n",
      "/env/lib/python3.8/site-packages/datacube/utils/geometry/_base.py:629: ShapelyDeprecationWarning: The 'type' attribute is deprecated, and will be removed in the future. You can use the 'geom_type' attribute instead.\n",
      "  if geom.type in ['GeometryCollection', 'MultiPolygon', 'MultiLineString']:\n",
      "/env/lib/python3.8/site-packages/datacube/utils/geometry/_base.py:632: ShapelyDeprecationWarning: The 'type' attribute is deprecated, and will be removed in the future. You can use the 'geom_type' attribute instead.\n",
      "  if geom.type in ['LineString', 'LinearRing']:\n",
      "/env/lib/python3.8/site-packages/datacube/utils/geometry/_base.py:635: ShapelyDeprecationWarning: The 'type' attribute is deprecated, and will be removed in the future. You can use the 'geom_type' attribute instead.\n",
      "  if geom.type == 'Polygon':\n",
      "/env/lib/python3.8/site-packages/datacube/utils/geometry/_base.py:626: ShapelyDeprecationWarning: The 'type' attribute is deprecated, and will be removed in the future. You can use the 'geom_type' attribute instead.\n",
      "  if geom.type in ['Point', 'MultiPoint']:\n",
      "/env/lib/python3.8/site-packages/datacube/utils/geometry/_base.py:629: ShapelyDeprecationWarning: The 'type' attribute is deprecated, and will be removed in the future. You can use the 'geom_type' attribute instead.\n",
      "  if geom.type in ['GeometryCollection', 'MultiPolygon', 'MultiLineString']:\n",
      "/env/lib/python3.8/site-packages/datacube/utils/geometry/_base.py:632: ShapelyDeprecationWarning: The 'type' attribute is deprecated, and will be removed in the future. You can use the 'geom_type' attribute instead.\n",
      "  if geom.type in ['LineString', 'LinearRing']:\n",
      "/env/lib/python3.8/site-packages/datacube/utils/geometry/_base.py:635: ShapelyDeprecationWarning: The 'type' attribute is deprecated, and will be removed in the future. You can use the 'geom_type' attribute instead.\n",
      "  if geom.type == 'Polygon':\n"
     ]
    },
    {
     "name": "stdout",
     "output_type": "stream",
     "text": [
      "Counting good quality pixels for each time step using fmask\n",
      "Filtering to 5 out of 6 time steps with at least 75.0% good quality pixels\n",
      "Applying fmask pixel quality/cloud mask\n",
      "Loading 5 time steps\n",
      "Feature: 2/5\n",
      "Finding datasets\n",
      "    ga_ls5t_ard_3\n",
      "    ga_ls8c_ard_3\n"
     ]
    },
    {
     "name": "stderr",
     "output_type": "stream",
     "text": [
      "/env/lib/python3.8/site-packages/datacube/utils/geometry/_base.py:626: ShapelyDeprecationWarning: The 'type' attribute is deprecated, and will be removed in the future. You can use the 'geom_type' attribute instead.\n",
      "  if geom.type in ['Point', 'MultiPoint']:\n",
      "/env/lib/python3.8/site-packages/datacube/utils/geometry/_base.py:629: ShapelyDeprecationWarning: The 'type' attribute is deprecated, and will be removed in the future. You can use the 'geom_type' attribute instead.\n",
      "  if geom.type in ['GeometryCollection', 'MultiPolygon', 'MultiLineString']:\n",
      "/env/lib/python3.8/site-packages/datacube/utils/geometry/_base.py:632: ShapelyDeprecationWarning: The 'type' attribute is deprecated, and will be removed in the future. You can use the 'geom_type' attribute instead.\n",
      "  if geom.type in ['LineString', 'LinearRing']:\n",
      "/env/lib/python3.8/site-packages/datacube/utils/geometry/_base.py:635: ShapelyDeprecationWarning: The 'type' attribute is deprecated, and will be removed in the future. You can use the 'geom_type' attribute instead.\n",
      "  if geom.type == 'Polygon':\n",
      "/env/lib/python3.8/site-packages/datacube/utils/geometry/_base.py:626: ShapelyDeprecationWarning: The 'type' attribute is deprecated, and will be removed in the future. You can use the 'geom_type' attribute instead.\n",
      "  if geom.type in ['Point', 'MultiPoint']:\n",
      "/env/lib/python3.8/site-packages/datacube/utils/geometry/_base.py:629: ShapelyDeprecationWarning: The 'type' attribute is deprecated, and will be removed in the future. You can use the 'geom_type' attribute instead.\n",
      "  if geom.type in ['GeometryCollection', 'MultiPolygon', 'MultiLineString']:\n",
      "/env/lib/python3.8/site-packages/datacube/utils/geometry/_base.py:632: ShapelyDeprecationWarning: The 'type' attribute is deprecated, and will be removed in the future. You can use the 'geom_type' attribute instead.\n",
      "  if geom.type in ['LineString', 'LinearRing']:\n",
      "/env/lib/python3.8/site-packages/datacube/utils/geometry/_base.py:635: ShapelyDeprecationWarning: The 'type' attribute is deprecated, and will be removed in the future. You can use the 'geom_type' attribute instead.\n",
      "  if geom.type == 'Polygon':\n"
     ]
    },
    {
     "name": "stdout",
     "output_type": "stream",
     "text": [
      "Counting good quality pixels for each time step using fmask\n",
      "Filtering to 8 out of 16 time steps with at least 75.0% good quality pixels\n",
      "Applying fmask pixel quality/cloud mask\n",
      "Loading 8 time steps\n",
      "Feature: 3/5\n",
      "Finding datasets\n",
      "    ga_ls5t_ard_3\n",
      "    ga_ls8c_ard_3\n",
      "Counting good quality pixels for each time step using fmask\n"
     ]
    },
    {
     "name": "stderr",
     "output_type": "stream",
     "text": [
      "/env/lib/python3.8/site-packages/datacube/utils/geometry/_base.py:626: ShapelyDeprecationWarning: The 'type' attribute is deprecated, and will be removed in the future. You can use the 'geom_type' attribute instead.\n",
      "  if geom.type in ['Point', 'MultiPoint']:\n",
      "/env/lib/python3.8/site-packages/datacube/utils/geometry/_base.py:629: ShapelyDeprecationWarning: The 'type' attribute is deprecated, and will be removed in the future. You can use the 'geom_type' attribute instead.\n",
      "  if geom.type in ['GeometryCollection', 'MultiPolygon', 'MultiLineString']:\n",
      "/env/lib/python3.8/site-packages/datacube/utils/geometry/_base.py:632: ShapelyDeprecationWarning: The 'type' attribute is deprecated, and will be removed in the future. You can use the 'geom_type' attribute instead.\n",
      "  if geom.type in ['LineString', 'LinearRing']:\n",
      "/env/lib/python3.8/site-packages/datacube/utils/geometry/_base.py:635: ShapelyDeprecationWarning: The 'type' attribute is deprecated, and will be removed in the future. You can use the 'geom_type' attribute instead.\n",
      "  if geom.type == 'Polygon':\n",
      "/env/lib/python3.8/site-packages/datacube/utils/geometry/_base.py:626: ShapelyDeprecationWarning: The 'type' attribute is deprecated, and will be removed in the future. You can use the 'geom_type' attribute instead.\n",
      "  if geom.type in ['Point', 'MultiPoint']:\n",
      "/env/lib/python3.8/site-packages/datacube/utils/geometry/_base.py:629: ShapelyDeprecationWarning: The 'type' attribute is deprecated, and will be removed in the future. You can use the 'geom_type' attribute instead.\n",
      "  if geom.type in ['GeometryCollection', 'MultiPolygon', 'MultiLineString']:\n",
      "/env/lib/python3.8/site-packages/datacube/utils/geometry/_base.py:632: ShapelyDeprecationWarning: The 'type' attribute is deprecated, and will be removed in the future. You can use the 'geom_type' attribute instead.\n",
      "  if geom.type in ['LineString', 'LinearRing']:\n",
      "/env/lib/python3.8/site-packages/datacube/utils/geometry/_base.py:635: ShapelyDeprecationWarning: The 'type' attribute is deprecated, and will be removed in the future. You can use the 'geom_type' attribute instead.\n",
      "  if geom.type == 'Polygon':\n"
     ]
    },
    {
     "name": "stdout",
     "output_type": "stream",
     "text": [
      "Filtering to 7 out of 15 time steps with at least 75.0% good quality pixels\n",
      "Applying fmask pixel quality/cloud mask\n",
      "Loading 7 time steps\n",
      "Feature: 4/5\n",
      "Finding datasets\n",
      "    ga_ls5t_ard_3\n",
      "    ga_ls8c_ard_3\n",
      "Counting good quality pixels for each time step using fmask\n"
     ]
    },
    {
     "name": "stderr",
     "output_type": "stream",
     "text": [
      "/env/lib/python3.8/site-packages/datacube/utils/geometry/_base.py:626: ShapelyDeprecationWarning: The 'type' attribute is deprecated, and will be removed in the future. You can use the 'geom_type' attribute instead.\n",
      "  if geom.type in ['Point', 'MultiPoint']:\n",
      "/env/lib/python3.8/site-packages/datacube/utils/geometry/_base.py:629: ShapelyDeprecationWarning: The 'type' attribute is deprecated, and will be removed in the future. You can use the 'geom_type' attribute instead.\n",
      "  if geom.type in ['GeometryCollection', 'MultiPolygon', 'MultiLineString']:\n",
      "/env/lib/python3.8/site-packages/datacube/utils/geometry/_base.py:632: ShapelyDeprecationWarning: The 'type' attribute is deprecated, and will be removed in the future. You can use the 'geom_type' attribute instead.\n",
      "  if geom.type in ['LineString', 'LinearRing']:\n",
      "/env/lib/python3.8/site-packages/datacube/utils/geometry/_base.py:635: ShapelyDeprecationWarning: The 'type' attribute is deprecated, and will be removed in the future. You can use the 'geom_type' attribute instead.\n",
      "  if geom.type == 'Polygon':\n",
      "/env/lib/python3.8/site-packages/datacube/utils/geometry/_base.py:626: ShapelyDeprecationWarning: The 'type' attribute is deprecated, and will be removed in the future. You can use the 'geom_type' attribute instead.\n",
      "  if geom.type in ['Point', 'MultiPoint']:\n",
      "/env/lib/python3.8/site-packages/datacube/utils/geometry/_base.py:629: ShapelyDeprecationWarning: The 'type' attribute is deprecated, and will be removed in the future. You can use the 'geom_type' attribute instead.\n",
      "  if geom.type in ['GeometryCollection', 'MultiPolygon', 'MultiLineString']:\n",
      "/env/lib/python3.8/site-packages/datacube/utils/geometry/_base.py:632: ShapelyDeprecationWarning: The 'type' attribute is deprecated, and will be removed in the future. You can use the 'geom_type' attribute instead.\n",
      "  if geom.type in ['LineString', 'LinearRing']:\n",
      "/env/lib/python3.8/site-packages/datacube/utils/geometry/_base.py:635: ShapelyDeprecationWarning: The 'type' attribute is deprecated, and will be removed in the future. You can use the 'geom_type' attribute instead.\n",
      "  if geom.type == 'Polygon':\n"
     ]
    },
    {
     "name": "stdout",
     "output_type": "stream",
     "text": [
      "Filtering to 4 out of 15 time steps with at least 75.0% good quality pixels\n",
      "Applying fmask pixel quality/cloud mask\n",
      "Loading 4 time steps\n",
      "Feature: 5/5\n",
      "Finding datasets\n",
      "    ga_ls5t_ard_3\n",
      "    ga_ls8c_ard_3\n",
      "Counting good quality pixels for each time step using fmask\n"
     ]
    },
    {
     "name": "stderr",
     "output_type": "stream",
     "text": [
      "/env/lib/python3.8/site-packages/datacube/utils/geometry/_base.py:626: ShapelyDeprecationWarning: The 'type' attribute is deprecated, and will be removed in the future. You can use the 'geom_type' attribute instead.\n",
      "  if geom.type in ['Point', 'MultiPoint']:\n",
      "/env/lib/python3.8/site-packages/datacube/utils/geometry/_base.py:629: ShapelyDeprecationWarning: The 'type' attribute is deprecated, and will be removed in the future. You can use the 'geom_type' attribute instead.\n",
      "  if geom.type in ['GeometryCollection', 'MultiPolygon', 'MultiLineString']:\n",
      "/env/lib/python3.8/site-packages/datacube/utils/geometry/_base.py:632: ShapelyDeprecationWarning: The 'type' attribute is deprecated, and will be removed in the future. You can use the 'geom_type' attribute instead.\n",
      "  if geom.type in ['LineString', 'LinearRing']:\n",
      "/env/lib/python3.8/site-packages/datacube/utils/geometry/_base.py:635: ShapelyDeprecationWarning: The 'type' attribute is deprecated, and will be removed in the future. You can use the 'geom_type' attribute instead.\n",
      "  if geom.type == 'Polygon':\n",
      "/env/lib/python3.8/site-packages/datacube/utils/geometry/_base.py:626: ShapelyDeprecationWarning: The 'type' attribute is deprecated, and will be removed in the future. You can use the 'geom_type' attribute instead.\n",
      "  if geom.type in ['Point', 'MultiPoint']:\n",
      "/env/lib/python3.8/site-packages/datacube/utils/geometry/_base.py:629: ShapelyDeprecationWarning: The 'type' attribute is deprecated, and will be removed in the future. You can use the 'geom_type' attribute instead.\n",
      "  if geom.type in ['GeometryCollection', 'MultiPolygon', 'MultiLineString']:\n",
      "/env/lib/python3.8/site-packages/datacube/utils/geometry/_base.py:632: ShapelyDeprecationWarning: The 'type' attribute is deprecated, and will be removed in the future. You can use the 'geom_type' attribute instead.\n",
      "  if geom.type in ['LineString', 'LinearRing']:\n",
      "/env/lib/python3.8/site-packages/datacube/utils/geometry/_base.py:635: ShapelyDeprecationWarning: The 'type' attribute is deprecated, and will be removed in the future. You can use the 'geom_type' attribute instead.\n",
      "  if geom.type == 'Polygon':\n",
      "/env/lib/python3.8/site-packages/rasterio/warp.py:344: NotGeoreferencedWarning: Dataset has no geotransform, gcps, or rpcs. The identity matrix will be returned.\n",
      "  _reproject(\n"
     ]
    },
    {
     "name": "stdout",
     "output_type": "stream",
     "text": [
      "Filtering to 6 out of 15 time steps with at least 75.0% good quality pixels\n",
      "Applying fmask pixel quality/cloud mask\n",
      "Loading 6 time steps\n"
     ]
    }
   ],
   "source": [
    "# Loop through polygons in geodataframe and extract satellite data\n",
    "for index, row in gdf.iterrows():\n",
    "    \n",
    "    print(f'Feature: {index + 1}/{len(gdf)}')\n",
    "    \n",
    "    # Extract the feature's geometry as a datacube geometry object\n",
    "    geom = Geometry(geom=row.geometry, crs=gdf.crs)\n",
    "    \n",
    "    # Update the query to include our geopolygon\n",
    "    query.update({'geopolygon': geom}) \n",
    "    \n",
    "    # Load landsat\n",
    "    ds = load_ard(dc=dc, \n",
    "                  products=products,\n",
    "                  min_gooddata= 0.75,  # only take uncloudy scenes\n",
    "                  # ls7_slc_off = False,                  \n",
    "                  group_by='solar_day',\n",
    "                  **query)\n",
    "    \n",
    "    # Generate a polygon mask to keep only data within the polygon\n",
    "    mask = xr_rasterize(gdf.iloc[[index]], ds)\n",
    "      \n",
    "    # site = gdf.loc[0 ,attribute_col]\n",
    "    site = str(row[attribute_col])\n",
    "    \n",
    "    ds['mndwi'] = (ds.nbart_green - ds.nbart_swir_1) / (ds.nbart_green + ds.nbart_swir_1)\n",
    "    ds['is_valid'] = np.isfinite(ds.nbart_green)\n",
    "    ds['mndwi'] = ds.mndwi.where(ds.mndwi > 0, 0)\n",
    "    ds['wet'] = ds.mndwi.where(ds.mndwi <= 0, 1)\n",
    "    ds['wet'] = ds.wet.where(ds.wet == 1, 0)\n",
    "    \n",
    "    # Mask dataset to set pixels outside the polygon to `NaN`\n",
    "    ds = ds.where(mask)\n",
    "    \n",
    "    # Make csv output   \n",
    "    blue = ds.nbart_blue.mean(dim=['x', 'y']) \n",
    "    green = ds.nbart_green.mean(dim=['x', 'y'])\n",
    "    red = ds.nbart_red.mean(dim=['x', 'y'])\n",
    "    nir = ds.nbart_nir.mean(dim=['x', 'y'])\n",
    "    swir1 = ds.nbart_swir_1.mean(dim=['x', 'y'])\n",
    "    swir2 = ds.nbart_swir_2.mean(dim=['x', 'y'])\n",
    "    \n",
    "    # Site\n",
    "    site = str(row[attribute_col])\n",
    "\n",
    "    # Add to a single dataframe ready to be written out as a CSV with time as an index\n",
    "    wateranalysis_df = pd.DataFrame(data={'site': site, 'blue':blue, 'green':green, 'red': red,\n",
    "                                         'nir':nir, 'swir1':swir1, 'swir2':swir2,},\n",
    "                                    index=ds.time.values)\n",
    "\n",
    "    # Write to file\n",
    "    wateranalysis_df.to_csv(f'{site}_band_extracts_0_{time_range[0]}-{time_range[1]}.csv', index_label='time')\n",
    "\n",
    "    # Preview data\n",
    "    wateranalysis_df.head()\n",
    " "
   ]
  },
  {
   "cell_type": "code",
   "execution_count": null,
   "metadata": {},
   "outputs": [],
   "source": []
  }
 ],
 "metadata": {
  "kernelspec": {
   "display_name": "Python 3 (ipykernel)",
   "language": "python",
   "name": "python3"
  },
  "language_info": {
   "codemirror_mode": {
    "name": "ipython",
    "version": 3
   },
   "file_extension": ".py",
   "mimetype": "text/x-python",
   "name": "python",
   "nbconvert_exporter": "python",
   "pygments_lexer": "ipython3",
   "version": "3.8.10"
  }
 },
 "nbformat": 4,
 "nbformat_minor": 4
}
